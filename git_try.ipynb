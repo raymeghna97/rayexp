{
 "cells": [
  {
   "cell_type": "code",
   "execution_count": 1,
   "id": "53808569-61a6-44b3-893f-055f04f5588d",
   "metadata": {},
   "outputs": [],
   "source": [
    "#trying to figure things out"
   ]
  },
  {
   "cell_type": "code",
   "execution_count": 2,
   "id": "5e579b9e-bac3-4631-b3da-ea487dfe4a02",
   "metadata": {},
   "outputs": [],
   "source": [
    "#may be I can learn to commit"
   ]
  },
  {
   "cell_type": "code",
   "execution_count": 4,
   "id": "2df609ac-4dba-4c3f-8899-fb9614aea5ed",
   "metadata": {},
   "outputs": [
    {
     "name": "stdout",
     "output_type": "stream",
     "text": [
      "77.0\n"
     ]
    }
   ],
   "source": [
    "trial1 = (9/5 * 25) + 32\n",
    "\n",
    "print(trial1)"
   ]
  },
  {
   "cell_type": "code",
   "execution_count": null,
   "id": "76b96bc7-ff01-403a-82fe-d60269a21df0",
   "metadata": {},
   "outputs": [],
   "source": []
  },
  {
   "cell_type": "code",
   "execution_count": null,
   "id": "994568e2-b00b-4901-acce-89f84a297243",
   "metadata": {},
   "outputs": [],
   "source": []
  }
 ],
 "metadata": {
  "kernelspec": {
   "display_name": "Python [conda env:experiments] *",
   "language": "python",
   "name": "conda-env-experiments-py"
  },
  "language_info": {
   "codemirror_mode": {
    "name": "ipython",
    "version": 3
   },
   "file_extension": ".py",
   "mimetype": "text/x-python",
   "name": "python",
   "nbconvert_exporter": "python",
   "pygments_lexer": "ipython3",
   "version": "3.11.5"
  }
 },
 "nbformat": 4,
 "nbformat_minor": 5
}
